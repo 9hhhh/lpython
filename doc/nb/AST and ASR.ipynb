{
 "cells": [
  {
   "cell_type": "markdown",
   "metadata": {},
   "source": [
    "# Difference between an AST and ASR\n",
    "\n",
    "Let us take a simple Fortran code:\n",
    "```fortran\n",
    "integer function f(a, b) result(r)\n",
    "integer, intent(in) :: a, b\n",
    "integer :: c, d\n",
    "c = a + b - d\n",
    "r = c * a",
    "end function\n",
    "```\n",
    "and look at how the AST and ASR looks like.\n",
    "\n",
    "## AST"
   ]
  },
  {
   "cell_type": "code",
   "execution_count": null,
   "metadata": {},
   "outputs": [],
   "source": [
    "from lfortran.ast import src_to_ast, print_tree\n",
    "from lfortran.ast.ast_to_src import ast_to_src\n",
    "src = \"\"\"\\\n",
    "integer function f(a, b) result(r)\n",
    "integer, intent(in) :: a, b\n",
    "integer :: c, d\n",
    "c = a + b - d\n",
    "r = c * a",
    "end function\n",
    "\"\"\"\n",
    "ast = src_to_ast(src, translation_unit=False)\n",
    "print_tree(ast)"
   ]
  },
  {
   "cell_type": "markdown",
   "metadata": {},
   "source": [
    "The AST does not have any semantic information, but has nodes to represent declarations such as `integer, intent(in) :: a`. Variables such as `a` are represented by a `Name` node, and are not connected to their declarations yet."
   ]
  },
  {
   "cell_type": "markdown",
   "metadata": {},
   "source": [
    "# ASR"
   ]
  },
  {
   "cell_type": "code",
   "execution_count": null,
   "metadata": {},
   "outputs": [],
   "source": [
    "from lfortran.semantic.ast_to_asr import ast_to_asr\n",
    "from lfortran.asr.pprint import pprint_asr\n",
    "asr = ast_to_asr(ast)\n",
    "pprint_asr(asr)"
   ]
  },
  {
   "cell_type": "markdown",
   "metadata": {},
   "source": [
    "The ASR has all the semantic information (types, etc.), nodes like `Function` have a symbol table and do not have any declaration nodes. Variables are simply pointers to the symbol table.\n",
    "\n",
    "## Discussion\n",
    "\n",
    "The above was a simple example. Things get more apparent for more complicated examples, such as:\n",
    "```fortran\n",
    "integer function f2b(a) result(r)\n",
    "use gfort_interop, only: c_desc1_int32\n",
    "integer, intent(in) :: a(:)\n",
    "interface\n",
    "    integer function f2b_c_wrapper(a) bind(c, name=\"__mod1_MOD_f2b\")\n",
    "    use gfort_interop, only: c_desc1_t\n",
    "    type(c_desc1_t), intent(in) :: a\n",
    "    end function\n",
    "end interface\n",
    "r = f2b_c_wrapper(c_desc1_int32(a))\n",
    "end function\n",
    "```\n",
    "AST must represent all the `use` statements and the `interface` block, and keep things semantically consistent.\n",
    "\n",
    "ASR, on the other hand, keeps track of the `c_desc1_int32`, `c_desc1_t` and `f2b_c_wrapper` in the symbol table and it knows they are defined in the `gfort_interop` module, and so ASR does not have any of these declaration nodes.\n",
    "\n",
    "When converting from ASR to AST, LFortran will create all the appropriate AST declaration nodes automatically and correctly."
   ]
  }
 ],
 "metadata": {
  "kernelspec": {
   "display_name": "Python 3",
   "language": "python",
   "name": "python3"
  },
  "language_info": {
   "codemirror_mode": {
    "name": "ipython",
    "version": 3
   },
   "file_extension": ".py",
   "mimetype": "text/x-python",
   "name": "python",
   "nbconvert_exporter": "python",
   "pygments_lexer": "ipython3",
   "version": "3.7.3"
  }
 },
 "nbformat": 4,
 "nbformat_minor": 2
}
